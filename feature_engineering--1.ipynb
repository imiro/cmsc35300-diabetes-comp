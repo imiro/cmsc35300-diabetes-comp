{
 "cells": [
  {
   "cell_type": "markdown",
   "metadata": {
    "id": "kJgYZjDTpKRI"
   },
   "source": [
    "# Final Project - CMSC 35300"
   ]
  },
  {
   "cell_type": "markdown",
   "metadata": {
    "id": "ZFbozsAjpN6x"
   },
   "source": [
    "## Import dataset"
   ]
  },
  {
   "cell_type": "code",
   "execution_count": 1,
   "metadata": {
    "colab": {
     "base_uri": "https://localhost:8080/"
    },
    "id": "-JSGcmKerx3S",
    "outputId": "a9e5b14e-38a5-4bdb-cca5-b485867f4066"
   },
   "outputs": [
    {
     "name": "stdout",
     "output_type": "stream",
     "text": [
      "Mounted at /content/gdrive\n"
     ]
    }
   ],
   "source": [
    "from google.colab import drive\n",
    "drive.mount('/content/gdrive')"
   ]
  },
  {
   "cell_type": "code",
   "execution_count": 2,
   "metadata": {
    "id": "H_3hFRE2r8n1"
   },
   "outputs": [],
   "source": [
    "# might need to change this if not working\n",
    "!ln -s \"/content/gdrive/MyDrive/2205.dataset/output50k/csv\" ./csv"
   ]
  },
  {
   "cell_type": "code",
   "execution_count": null,
   "metadata": {
    "colab": {
     "base_uri": "https://localhost:8080/"
    },
    "id": "imuMs4JAXzS3",
    "outputId": "95d4fedf-968e-4af9-c856-f55771efe044"
   },
   "outputs": [
    {
     "name": "stdout",
     "output_type": "stream",
     "text": [
      "      41748 csv/allergies.csv\n",
      "     207359 csv/careplans.csv\n",
      "    7159335 csv/claims.csv\n",
      "   58875310 csv/claims_transactions.csv\n",
      "    2140306 csv/conditions.csv\n",
      "      29052 csv/devices.csv\n",
      "    3508873 csv/encounters.csv\n",
      "    6420224 csv/imaging_studies.csv\n",
      "     853153 csv/immunizations.csv\n",
      "    3650463 csv/medications.csv\n",
      "   36215143 csv/observations.csv\n",
      "       9360 csv/organizations.csv\n",
      "      58840 csv/patients.csv\n",
      "         11 csv/payers.csv\n",
      "    2632515 csv/payer_transitions.csv\n",
      "    6441465 csv/procedures.csv\n",
      "      57507 csv/providers.csv\n",
      "      76740 csv/supplies.csv\n",
      "  128377404 total\n"
     ]
    }
   ],
   "source": [
    "!wc -l csv/*.csv"
   ]
  },
  {
   "cell_type": "markdown",
   "metadata": {
    "id": "c6-7ZIGHqMGD"
   },
   "source": [
    "We can see there are 58k+ patients, 2.1M+ conditions, 3.5M+ encounters, 36M+ observations, 6.4M+ imaging studies. These will be our source of features. "
   ]
  },
  {
   "cell_type": "markdown",
   "metadata": {
    "id": "-TZBmMLVpSpS"
   },
   "source": [
    "## Exploratory Data Analysis"
   ]
  },
  {
   "cell_type": "code",
   "execution_count": 3,
   "metadata": {
    "id": "9YicvHdzs_8N"
   },
   "outputs": [],
   "source": [
    "import pandas as pd\n",
    "import numpy as np\n",
    "import matplotlib.pyplot as plt"
   ]
  },
  {
   "cell_type": "markdown",
   "metadata": {
    "id": "aIiP_KFsmill"
   },
   "source": [
    "#### Patients and Conditions table"
   ]
  },
  {
   "cell_type": "code",
   "execution_count": 4,
   "metadata": {
    "id": "k-YX6Sa5tCw8"
   },
   "outputs": [],
   "source": [
    "patients = pd.read_csv(\"csv/patients.csv\")\n",
    "conditions = pd.read_csv(\"csv/conditions.csv\")"
   ]
  },
  {
   "cell_type": "code",
   "execution_count": null,
   "metadata": {
    "colab": {
     "base_uri": "https://localhost:8080/"
    },
    "id": "h_6jUaiOtKN5",
    "outputId": "cab14e70-8d7a-41eb-9dce-c8f35a102cb7"
   },
   "outputs": [
    {
     "name": "stdout",
     "output_type": "stream",
     "text": [
      "<class 'pandas.core.frame.DataFrame'>\n",
      "RangeIndex: 58839 entries, 0 to 58838\n",
      "Data columns (total 25 columns):\n",
      " #   Column               Non-Null Count  Dtype  \n",
      "---  ------               --------------  -----  \n",
      " 0   Id                   58839 non-null  object \n",
      " 1   BIRTHDATE            58839 non-null  object \n",
      " 2   DEATHDATE            8839 non-null   object \n",
      " 3   SSN                  58839 non-null  object \n",
      " 4   DRIVERS              48206 non-null  object \n",
      " 5   PASSPORT             45210 non-null  object \n",
      " 6   PREFIX               46715 non-null  object \n",
      " 7   FIRST                58839 non-null  object \n",
      " 8   LAST                 58839 non-null  object \n",
      " 9   SUFFIX               683 non-null    object \n",
      " 10  MAIDEN               15465 non-null  object \n",
      " 11  MARITAL              39782 non-null  object \n",
      " 12  RACE                 58839 non-null  object \n",
      " 13  ETHNICITY            58839 non-null  object \n",
      " 14  GENDER               58839 non-null  object \n",
      " 15  BIRTHPLACE           58839 non-null  object \n",
      " 16  ADDRESS              58839 non-null  object \n",
      " 17  CITY                 58839 non-null  object \n",
      " 18  STATE                58839 non-null  object \n",
      " 19  COUNTY               58839 non-null  object \n",
      " 20  ZIP                  31311 non-null  float64\n",
      " 21  LAT                  58839 non-null  float64\n",
      " 22  LON                  58839 non-null  float64\n",
      " 23  HEALTHCARE_EXPENSES  58839 non-null  float64\n",
      " 24  HEALTHCARE_COVERAGE  58839 non-null  float64\n",
      "dtypes: float64(5), object(20)\n",
      "memory usage: 11.2+ MB\n"
     ]
    }
   ],
   "source": [
    "patients.info()"
   ]
  },
  {
   "cell_type": "code",
   "execution_count": null,
   "metadata": {
    "colab": {
     "base_uri": "https://localhost:8080/"
    },
    "id": "I_SGC-SMtSol",
    "outputId": "4c5b1264-9792-417e-e566-2887bc72b214"
   },
   "outputs": [
    {
     "name": "stdout",
     "output_type": "stream",
     "text": [
      "<class 'pandas.core.frame.DataFrame'>\n",
      "RangeIndex: 2140305 entries, 0 to 2140304\n",
      "Data columns (total 6 columns):\n",
      " #   Column       Dtype \n",
      "---  ------       ----- \n",
      " 0   START        object\n",
      " 1   STOP         object\n",
      " 2   PATIENT      object\n",
      " 3   ENCOUNTER    object\n",
      " 4   CODE         int64 \n",
      " 5   DESCRIPTION  object\n",
      "dtypes: int64(1), object(5)\n",
      "memory usage: 98.0+ MB\n"
     ]
    }
   ],
   "source": [
    "conditions.info()"
   ]
  },
  {
   "cell_type": "code",
   "execution_count": null,
   "metadata": {
    "colab": {
     "base_uri": "https://localhost:8080/"
    },
    "id": "sEDS3jeSRtTM",
    "outputId": "db99e732-efa4-48cd-c41f-75a4daf65853"
   },
   "outputs": [
    {
     "data": {
      "text/plain": [
       "white       48819\n",
       "black        4596\n",
       "asian        3736\n",
       "other         709\n",
       "hawaiian      698\n",
       "native        281\n",
       "Name: RACE, dtype: int64"
      ]
     },
     "execution_count": 6,
     "metadata": {},
     "output_type": "execute_result"
    }
   ],
   "source": [
    "patients.RACE.value_counts()"
   ]
  },
  {
   "cell_type": "markdown",
   "metadata": {
    "id": "Br9zTyTm9Z-c"
   },
   "source": [
    "We note that majority of the ethnicity is \"white\", so we will just encode the race as \"white\" vs \"non-white\" for simplicity"
   ]
  },
  {
   "cell_type": "markdown",
   "metadata": {
    "id": "e45kC3ng9j5x"
   },
   "source": [
    "What conditions are available in the dataset?"
   ]
  },
  {
   "cell_type": "code",
   "execution_count": null,
   "metadata": {
    "colab": {
     "base_uri": "https://localhost:8080/",
     "height": 656
    },
    "id": "-Vg8SbsuxBL7",
    "outputId": "fdaf8d7c-7662-42f7-a3da-5a026da3856c"
   },
   "outputs": [
    {
     "data": {
      "text/html": [
       "\n",
       "  <div id=\"df-40f49b2c-b56c-49ac-b072-64ffbb087e33\">\n",
       "    <div class=\"colab-df-container\">\n",
       "      <div>\n",
       "<style scoped>\n",
       "    .dataframe tbody tr th:only-of-type {\n",
       "        vertical-align: middle;\n",
       "    }\n",
       "\n",
       "    .dataframe tbody tr th {\n",
       "        vertical-align: top;\n",
       "    }\n",
       "\n",
       "    .dataframe thead th {\n",
       "        text-align: right;\n",
       "    }\n",
       "</style>\n",
       "<table border=\"1\" class=\"dataframe\">\n",
       "  <thead>\n",
       "    <tr style=\"text-align: right;\">\n",
       "      <th></th>\n",
       "      <th></th>\n",
       "      <th>PATIENT</th>\n",
       "    </tr>\n",
       "    <tr>\n",
       "      <th>CODE</th>\n",
       "      <th>DESCRIPTION</th>\n",
       "      <th></th>\n",
       "    </tr>\n",
       "  </thead>\n",
       "  <tbody>\n",
       "    <tr>\n",
       "      <th>73595000</th>\n",
       "      <th>Stress (finding)</th>\n",
       "      <td>45595</td>\n",
       "    </tr>\n",
       "    <tr>\n",
       "      <th>160903007</th>\n",
       "      <th>Full-time employment (finding)</th>\n",
       "      <td>42413</td>\n",
       "    </tr>\n",
       "    <tr>\n",
       "      <th>444814009</th>\n",
       "      <th>Viral sinusitis (disorder)</th>\n",
       "      <td>37265</td>\n",
       "    </tr>\n",
       "    <tr>\n",
       "      <th>160904001</th>\n",
       "      <th>Part-time employment (finding)</th>\n",
       "      <td>35081</td>\n",
       "    </tr>\n",
       "    <tr>\n",
       "      <th>423315002</th>\n",
       "      <th>Limited social contact (finding)</th>\n",
       "      <td>34069</td>\n",
       "    </tr>\n",
       "    <tr>\n",
       "      <th>...</th>\n",
       "      <th>...</th>\n",
       "      <td>...</td>\n",
       "    </tr>\n",
       "    <tr>\n",
       "      <th>287185009</th>\n",
       "      <th>Attempted suicide - cut/stab</th>\n",
       "      <td>3</td>\n",
       "    </tr>\n",
       "    <tr>\n",
       "      <th>161621004</th>\n",
       "      <th>History of upper limb amputation (situation)</th>\n",
       "      <td>2</td>\n",
       "    </tr>\n",
       "    <tr>\n",
       "      <th>47200007</th>\n",
       "      <th>Non-low risk pregnancy</th>\n",
       "      <td>2</td>\n",
       "    </tr>\n",
       "    <tr>\n",
       "      <th>206523001</th>\n",
       "      <th>Meconium Ileus</th>\n",
       "      <td>2</td>\n",
       "    </tr>\n",
       "    <tr>\n",
       "      <th>448417001</th>\n",
       "      <th>Sepsis caused by Staphylococcus aureus</th>\n",
       "      <td>1</td>\n",
       "    </tr>\n",
       "  </tbody>\n",
       "</table>\n",
       "<p>260 rows × 1 columns</p>\n",
       "</div>\n",
       "      <button class=\"colab-df-convert\" onclick=\"convertToInteractive('df-40f49b2c-b56c-49ac-b072-64ffbb087e33')\"\n",
       "              title=\"Convert this dataframe to an interactive table.\"\n",
       "              style=\"display:none;\">\n",
       "        \n",
       "  <svg xmlns=\"http://www.w3.org/2000/svg\" height=\"24px\"viewBox=\"0 0 24 24\"\n",
       "       width=\"24px\">\n",
       "    <path d=\"M0 0h24v24H0V0z\" fill=\"none\"/>\n",
       "    <path d=\"M18.56 5.44l.94 2.06.94-2.06 2.06-.94-2.06-.94-.94-2.06-.94 2.06-2.06.94zm-11 1L8.5 8.5l.94-2.06 2.06-.94-2.06-.94L8.5 2.5l-.94 2.06-2.06.94zm10 10l.94 2.06.94-2.06 2.06-.94-2.06-.94-.94-2.06-.94 2.06-2.06.94z\"/><path d=\"M17.41 7.96l-1.37-1.37c-.4-.4-.92-.59-1.43-.59-.52 0-1.04.2-1.43.59L10.3 9.45l-7.72 7.72c-.78.78-.78 2.05 0 2.83L4 21.41c.39.39.9.59 1.41.59.51 0 1.02-.2 1.41-.59l7.78-7.78 2.81-2.81c.8-.78.8-2.07 0-2.86zM5.41 20L4 18.59l7.72-7.72 1.47 1.35L5.41 20z\"/>\n",
       "  </svg>\n",
       "      </button>\n",
       "      \n",
       "  <style>\n",
       "    .colab-df-container {\n",
       "      display:flex;\n",
       "      flex-wrap:wrap;\n",
       "      gap: 12px;\n",
       "    }\n",
       "\n",
       "    .colab-df-convert {\n",
       "      background-color: #E8F0FE;\n",
       "      border: none;\n",
       "      border-radius: 50%;\n",
       "      cursor: pointer;\n",
       "      display: none;\n",
       "      fill: #1967D2;\n",
       "      height: 32px;\n",
       "      padding: 0 0 0 0;\n",
       "      width: 32px;\n",
       "    }\n",
       "\n",
       "    .colab-df-convert:hover {\n",
       "      background-color: #E2EBFA;\n",
       "      box-shadow: 0px 1px 2px rgba(60, 64, 67, 0.3), 0px 1px 3px 1px rgba(60, 64, 67, 0.15);\n",
       "      fill: #174EA6;\n",
       "    }\n",
       "\n",
       "    [theme=dark] .colab-df-convert {\n",
       "      background-color: #3B4455;\n",
       "      fill: #D2E3FC;\n",
       "    }\n",
       "\n",
       "    [theme=dark] .colab-df-convert:hover {\n",
       "      background-color: #434B5C;\n",
       "      box-shadow: 0px 1px 3px 1px rgba(0, 0, 0, 0.15);\n",
       "      filter: drop-shadow(0px 1px 2px rgba(0, 0, 0, 0.3));\n",
       "      fill: #FFFFFF;\n",
       "    }\n",
       "  </style>\n",
       "\n",
       "      <script>\n",
       "        const buttonEl =\n",
       "          document.querySelector('#df-40f49b2c-b56c-49ac-b072-64ffbb087e33 button.colab-df-convert');\n",
       "        buttonEl.style.display =\n",
       "          google.colab.kernel.accessAllowed ? 'block' : 'none';\n",
       "\n",
       "        async function convertToInteractive(key) {\n",
       "          const element = document.querySelector('#df-40f49b2c-b56c-49ac-b072-64ffbb087e33');\n",
       "          const dataTable =\n",
       "            await google.colab.kernel.invokeFunction('convertToInteractive',\n",
       "                                                     [key], {});\n",
       "          if (!dataTable) return;\n",
       "\n",
       "          const docLinkHtml = 'Like what you see? Visit the ' +\n",
       "            '<a target=\"_blank\" href=https://colab.research.google.com/notebooks/data_table.ipynb>data table notebook</a>'\n",
       "            + ' to learn more about interactive tables.';\n",
       "          element.innerHTML = '';\n",
       "          dataTable['output_type'] = 'display_data';\n",
       "          await google.colab.output.renderOutput(dataTable, element);\n",
       "          const docLink = document.createElement('div');\n",
       "          docLink.innerHTML = docLinkHtml;\n",
       "          element.appendChild(docLink);\n",
       "        }\n",
       "      </script>\n",
       "    </div>\n",
       "  </div>\n",
       "  "
      ],
      "text/plain": [
       "                                                        PATIENT\n",
       "CODE      DESCRIPTION                                          \n",
       "73595000  Stress (finding)                                45595\n",
       "160903007 Full-time employment (finding)                  42413\n",
       "444814009 Viral sinusitis (disorder)                      37265\n",
       "160904001 Part-time employment (finding)                  35081\n",
       "423315002 Limited social contact (finding)                34069\n",
       "...                                                         ...\n",
       "287185009 Attempted suicide - cut/stab                        3\n",
       "161621004 History of upper limb amputation (situation)        2\n",
       "47200007  Non-low risk pregnancy                              2\n",
       "206523001 Meconium Ileus                                      2\n",
       "448417001 Sepsis caused by Staphylococcus aureus              1\n",
       "\n",
       "[260 rows x 1 columns]"
      ]
     },
     "execution_count": 7,
     "metadata": {},
     "output_type": "execute_result"
    }
   ],
   "source": [
    "pd.DataFrame(conditions.groupby([\"CODE\", \"DESCRIPTION\"]).nunique().sort_values(\"PATIENT\", ascending=False)[[\"PATIENT\"]])"
   ]
  },
  {
   "cell_type": "markdown",
   "metadata": {
    "id": "sxPwwdX_BLkn"
   },
   "source": [
    "We note some codes of interest:\n",
    "\n",
    "- 44054006 Diabetes\n",
    "- 422034002 Diabetic retinopathy associated with type II diabetes mellitus (disorder)\n",
    "- 368581000119106 Neuropathy due to type 2 diabetes mellitus (disorder)\n",
    "- 127013003 Diabetic renal disease (disorder)"
   ]
  },
  {
   "cell_type": "code",
   "execution_count": 5,
   "metadata": {
    "id": "EWcYRcMrBLko"
   },
   "outputs": [],
   "source": [
    "DIABETES_CODE = 44054006\n",
    "COMPLICATIONS_CODES = [422034002, 368581000119106, 127013003]"
   ]
  },
  {
   "cell_type": "markdown",
   "metadata": {
    "id": "cWiik9p7BT7P"
   },
   "source": [
    "#### Get Diabetes Patients"
   ]
  },
  {
   "cell_type": "code",
   "execution_count": 6,
   "metadata": {
    "id": "0YOPQ6kNBT7R"
   },
   "outputs": [],
   "source": [
    "diabetes_conditions = conditions.query(\"CODE == @DIABETES_CODE\")# & PATIENT in @patients.Id\")\n",
    "diabetes_patients = diabetes_conditions.PATIENT\n",
    "diabetes_conditions = diabetes_conditions.set_index(\"PATIENT\")"
   ]
  },
  {
   "cell_type": "code",
   "execution_count": 7,
   "metadata": {
    "id": "BWBpgAU0M30g"
   },
   "outputs": [],
   "source": [
    "diabetic_patients = patients.query(\"Id in @diabetes_patients\").set_index(\"Id\")"
   ]
  },
  {
   "cell_type": "code",
   "execution_count": 14,
   "metadata": {
    "colab": {
     "base_uri": "https://localhost:8080/"
    },
    "id": "4clS8Oy9C2WX",
    "outputId": "eca61ab9-27a8-4961-8498-e39960e1e504"
   },
   "outputs": [
    {
     "data": {
      "text/plain": [
       "white       3749\n",
       "black        308\n",
       "asian        275\n",
       "other         66\n",
       "hawaiian      49\n",
       "native        30\n",
       "Name: RACE, dtype: int64"
      ]
     },
     "execution_count": 14,
     "metadata": {},
     "output_type": "execute_result"
    }
   ],
   "source": [
    "diabetic_patients.RACE.value_counts()"
   ]
  },
  {
   "cell_type": "code",
   "execution_count": 29,
   "metadata": {
    "colab": {
     "base_uri": "https://localhost:8080/"
    },
    "id": "k0aYw4Oohks7",
    "outputId": "636c2b11-7d5a-4615-9224-b1d10ef31546"
   },
   "outputs": [
    {
     "data": {
      "text/plain": [
       "4477"
      ]
     },
     "execution_count": 29,
     "metadata": {},
     "output_type": "execute_result"
    }
   ],
   "source": [
    "len(diabetic_patients)"
   ]
  },
  {
   "cell_type": "markdown",
   "metadata": {
    "id": "MZbKUla1C2sL"
   },
   "source": [
    "#### Diabetes with Complications"
   ]
  },
  {
   "cell_type": "code",
   "execution_count": 8,
   "metadata": {
    "id": "viGUqMh3C6Lq"
   },
   "outputs": [],
   "source": [
    "diabetes_comp_patients = conditions.query(\n",
    "    \"PATIENT in @diabetes_patients &CODE in @COMPLICATIONS_CODES\").PATIENT.unique()"
   ]
  },
  {
   "cell_type": "code",
   "execution_count": 16,
   "metadata": {
    "colab": {
     "base_uri": "https://localhost:8080/"
    },
    "id": "J0bRnbMLDA8j",
    "outputId": "7632952f-68a5-48ec-8848-9c4786e07bdc"
   },
   "outputs": [
    {
     "data": {
      "text/plain": [
       "(2686,)"
      ]
     },
     "execution_count": 16,
     "metadata": {},
     "output_type": "execute_result"
    }
   ],
   "source": [
    "diabetes_comp_patients.shape"
   ]
  },
  {
   "cell_type": "code",
   "execution_count": 9,
   "metadata": {
    "id": "jg_WNs27X3ne"
   },
   "outputs": [],
   "source": [
    "df = pd.DataFrame(index=diabetes_patients.unique())\n",
    "df[\"DIABETES_START\"] = pd.to_datetime(diabetes_conditions.loc[diabetes_patients].START, utc=True)\n",
    "df[\"COMP1_START\"] = pd.to_datetime(conditions.query(\"CODE == @COMPLICATIONS_CODES[0]\").set_index(\"PATIENT\").START, utc=True)\n",
    "df[\"COMP2_START\"] = pd.to_datetime(conditions.query(\"CODE == @COMPLICATIONS_CODES[1]\").set_index(\"PATIENT\").START, utc=True)\n",
    "df[\"COMP3_START\"] = pd.to_datetime(conditions.query(\"CODE == @COMPLICATIONS_CODES[2]\").set_index(\"PATIENT\").START, utc=True)\n",
    "df[\"DEATH_DATE\"] = diabetic_patients.DEATHDATE"
   ]
  },
  {
   "cell_type": "code",
   "execution_count": 10,
   "metadata": {
    "id": "g8EsbvEDlpN-"
   },
   "outputs": [],
   "source": [
    "df[\"COMP1_DIST\"] = df[\"COMP1_START\"] - df[\"DIABETES_START\"]\n",
    "df[\"COMP2_DIST\"] = df[\"COMP2_START\"] - df[\"DIABETES_START\"]\n",
    "df[\"COMP3_DIST\"] = df[\"COMP3_START\"] - df[\"DIABETES_START\"]\n",
    "df[\"COMP_DIST\"] = df[[\"COMP1_DIST\",\"COMP2_DIST\",\"COMP3_DIST\"]].min(axis=1)"
   ]
  },
  {
   "cell_type": "code",
   "execution_count": 11,
   "metadata": {
    "id": "J9FvWB-EDOm-"
   },
   "outputs": [],
   "source": [
    "dfcomptime = df[(df[\"COMP_DIST\"]>np.timedelta64(5,'Y'))]"
   ]
  },
  {
   "cell_type": "markdown",
   "metadata": {
    "id": "itqj90YWH_Ez"
   },
   "source": [
    "#### Observation table"
   ]
  },
  {
   "cell_type": "code",
   "execution_count": 12,
   "metadata": {
    "id": "xDD-RPeHBfh-"
   },
   "outputs": [],
   "source": [
    "obs = pd.read_csv(\"csv/observations.csv\")"
   ]
  },
  {
   "cell_type": "code",
   "execution_count": 13,
   "metadata": {
    "colab": {
     "base_uri": "https://localhost:8080/"
    },
    "id": "kQ76pRpyBfh-",
    "outputId": "ba8cd82e-31c0-421c-aef8-686442b5dca2"
   },
   "outputs": [
    {
     "name": "stdout",
     "output_type": "stream",
     "text": [
      "(6258887, 9)\n"
     ]
    }
   ],
   "source": [
    "observations = obs.query(\"PATIENT in @diabetes_patients\")\n",
    "print(observations.shape)"
   ]
  },
  {
   "cell_type": "code",
   "execution_count": 14,
   "metadata": {
    "colab": {
     "base_uri": "https://localhost:8080/"
    },
    "id": "lVyWWbtB0z80",
    "outputId": "34132084-193d-40df-ff45-9aa05627975a"
   },
   "outputs": [
    {
     "name": "stderr",
     "output_type": "stream",
     "text": [
      "/usr/local/lib/python3.7/dist-packages/ipykernel_launcher.py:1: SettingWithCopyWarning: \n",
      "A value is trying to be set on a copy of a slice from a DataFrame.\n",
      "Try using .loc[row_indexer,col_indexer] = value instead\n",
      "\n",
      "See the caveats in the documentation: https://pandas.pydata.org/pandas-docs/stable/user_guide/indexing.html#returning-a-view-versus-a-copy\n",
      "  \"\"\"Entry point for launching an IPython kernel.\n",
      "/usr/local/lib/python3.7/dist-packages/ipykernel_launcher.py:2: SettingWithCopyWarning: \n",
      "A value is trying to be set on a copy of a slice from a DataFrame.\n",
      "Try using .loc[row_indexer,col_indexer] = value instead\n",
      "\n",
      "See the caveats in the documentation: https://pandas.pydata.org/pandas-docs/stable/user_guide/indexing.html#returning-a-view-versus-a-copy\n",
      "  \n"
     ]
    }
   ],
   "source": [
    "observations['DATE_ORI'] = observations['DATE']\n",
    "observations['DATE'] = pd.to_datetime(observations['DATE'])"
   ]
  },
  {
   "cell_type": "code",
   "execution_count": null,
   "metadata": {
    "id": "GslwbRI8IEC-"
   },
   "outputs": [],
   "source": [
    "del obs"
   ]
  },
  {
   "cell_type": "markdown",
   "metadata": {
    "id": "h5CzvfYQRtTL"
   },
   "source": [
    "##### Exploration"
   ]
  },
  {
   "cell_type": "markdown",
   "metadata": {
    "id": "mF7CdD06-AfD"
   },
   "source": [
    "We explore available fields in the observations table"
   ]
  },
  {
   "cell_type": "code",
   "execution_count": 15,
   "metadata": {
    "id": "Nn7HtiJ6RtTN"
   },
   "outputs": [],
   "source": [
    "obs_codedesc = observations.groupby([\"CODE\",\"DESCRIPTION\"]).nunique() \\\n",
    "              .sort_values(\"PATIENT\", ascending=False)"
   ]
  },
  {
   "cell_type": "code",
   "execution_count": 16,
   "metadata": {
    "colab": {
     "base_uri": "https://localhost:8080/",
     "height": 517
    },
    "id": "p2FSRV4hRtTN",
    "outputId": "4fa217fa-ebe3-4390-a5a4-7b1ea0904eeb"
   },
   "outputs": [
    {
     "data": {
      "text/html": [
       "\n",
       "  <div id=\"df-e3587f43-b546-4fc5-b37f-427ed08dc85c\">\n",
       "    <div class=\"colab-df-container\">\n",
       "      <div>\n",
       "<style scoped>\n",
       "    .dataframe tbody tr th:only-of-type {\n",
       "        vertical-align: middle;\n",
       "    }\n",
       "\n",
       "    .dataframe tbody tr th {\n",
       "        vertical-align: top;\n",
       "    }\n",
       "\n",
       "    .dataframe thead th {\n",
       "        text-align: right;\n",
       "    }\n",
       "</style>\n",
       "<table border=\"1\" class=\"dataframe\">\n",
       "  <thead>\n",
       "    <tr style=\"text-align: right;\">\n",
       "      <th></th>\n",
       "      <th></th>\n",
       "      <th>DATE</th>\n",
       "      <th>PATIENT</th>\n",
       "      <th>ENCOUNTER</th>\n",
       "      <th>CATEGORY</th>\n",
       "      <th>VALUE</th>\n",
       "      <th>UNITS</th>\n",
       "      <th>TYPE</th>\n",
       "      <th>DATE_ORI</th>\n",
       "    </tr>\n",
       "    <tr>\n",
       "      <th>CODE</th>\n",
       "      <th>DESCRIPTION</th>\n",
       "      <th></th>\n",
       "      <th></th>\n",
       "      <th></th>\n",
       "      <th></th>\n",
       "      <th></th>\n",
       "      <th></th>\n",
       "      <th></th>\n",
       "      <th></th>\n",
       "    </tr>\n",
       "  </thead>\n",
       "  <tbody>\n",
       "    <tr>\n",
       "      <th>72514-3</th>\n",
       "      <th>Pain severity - 0-10 verbal numeric rating [Score] - Reported</th>\n",
       "      <td>129128</td>\n",
       "      <td>4477</td>\n",
       "      <td>127140</td>\n",
       "      <td>1</td>\n",
       "      <td>11</td>\n",
       "      <td>1</td>\n",
       "      <td>1</td>\n",
       "      <td>129128</td>\n",
       "    </tr>\n",
       "    <tr>\n",
       "      <th>785-6</th>\n",
       "      <th>MCH [Entitic mass] by Automated count</th>\n",
       "      <td>14376</td>\n",
       "      <td>4477</td>\n",
       "      <td>13032</td>\n",
       "      <td>1</td>\n",
       "      <td>65</td>\n",
       "      <td>1</td>\n",
       "      <td>1</td>\n",
       "      <td>14376</td>\n",
       "    </tr>\n",
       "    <tr>\n",
       "      <th>39156-5</th>\n",
       "      <th>Body Mass Index</th>\n",
       "      <td>87070</td>\n",
       "      <td>4477</td>\n",
       "      <td>87321</td>\n",
       "      <td>1</td>\n",
       "      <td>290</td>\n",
       "      <td>1</td>\n",
       "      <td>1</td>\n",
       "      <td>87070</td>\n",
       "    </tr>\n",
       "    <tr>\n",
       "      <th>9279-1</th>\n",
       "      <th>Respiratory rate</th>\n",
       "      <td>88957</td>\n",
       "      <td>4477</td>\n",
       "      <td>87843</td>\n",
       "      <td>1</td>\n",
       "      <td>281</td>\n",
       "      <td>1</td>\n",
       "      <td>1</td>\n",
       "      <td>88957</td>\n",
       "    </tr>\n",
       "    <tr>\n",
       "      <th>21000-5</th>\n",
       "      <th>Erythrocyte distribution width [Entitic volume] by Automated count</th>\n",
       "      <td>11247</td>\n",
       "      <td>4477</td>\n",
       "      <td>11256</td>\n",
       "      <td>1</td>\n",
       "      <td>71</td>\n",
       "      <td>1</td>\n",
       "      <td>1</td>\n",
       "      <td>11247</td>\n",
       "    </tr>\n",
       "    <tr>\n",
       "      <th>...</th>\n",
       "      <th>...</th>\n",
       "      <td>...</td>\n",
       "      <td>...</td>\n",
       "      <td>...</td>\n",
       "      <td>...</td>\n",
       "      <td>...</td>\n",
       "      <td>...</td>\n",
       "      <td>...</td>\n",
       "      <td>...</td>\n",
       "    </tr>\n",
       "    <tr>\n",
       "      <th>417181009</th>\n",
       "      <th>Estrogen+Progesterone receptor Ag [Presence] in Tissue by Immune stain</th>\n",
       "      <td>3</td>\n",
       "      <td>3</td>\n",
       "      <td>3</td>\n",
       "      <td>1</td>\n",
       "      <td>1</td>\n",
       "      <td>0</td>\n",
       "      <td>1</td>\n",
       "      <td>3</td>\n",
       "    </tr>\n",
       "    <tr>\n",
       "      <th>21924-6</th>\n",
       "      <th>Tumor marker Cancer</th>\n",
       "      <td>2</td>\n",
       "      <td>2</td>\n",
       "      <td>2</td>\n",
       "      <td>1</td>\n",
       "      <td>1</td>\n",
       "      <td>0</td>\n",
       "      <td>1</td>\n",
       "      <td>2</td>\n",
       "    </tr>\n",
       "    <tr>\n",
       "      <th>71972-4</th>\n",
       "      <th>PROMIS-10 Global Physical Health (GPH) score</th>\n",
       "      <td>2</td>\n",
       "      <td>1</td>\n",
       "      <td>2</td>\n",
       "      <td>1</td>\n",
       "      <td>2</td>\n",
       "      <td>1</td>\n",
       "      <td>1</td>\n",
       "      <td>2</td>\n",
       "    </tr>\n",
       "    <tr>\n",
       "      <th>22577-1</th>\n",
       "      <th>Toxoplasma gondii Ab [Presence] in Serum</th>\n",
       "      <td>1</td>\n",
       "      <td>1</td>\n",
       "      <td>1</td>\n",
       "      <td>1</td>\n",
       "      <td>1</td>\n",
       "      <td>0</td>\n",
       "      <td>1</td>\n",
       "      <td>1</td>\n",
       "    </tr>\n",
       "    <tr>\n",
       "      <th>71970-8</th>\n",
       "      <th>PROMIS-10 Global Mental Health (GMH) score</th>\n",
       "      <td>2</td>\n",
       "      <td>1</td>\n",
       "      <td>2</td>\n",
       "      <td>1</td>\n",
       "      <td>2</td>\n",
       "      <td>1</td>\n",
       "      <td>1</td>\n",
       "      <td>2</td>\n",
       "    </tr>\n",
       "  </tbody>\n",
       "</table>\n",
       "<p>266 rows × 8 columns</p>\n",
       "</div>\n",
       "      <button class=\"colab-df-convert\" onclick=\"convertToInteractive('df-e3587f43-b546-4fc5-b37f-427ed08dc85c')\"\n",
       "              title=\"Convert this dataframe to an interactive table.\"\n",
       "              style=\"display:none;\">\n",
       "        \n",
       "  <svg xmlns=\"http://www.w3.org/2000/svg\" height=\"24px\"viewBox=\"0 0 24 24\"\n",
       "       width=\"24px\">\n",
       "    <path d=\"M0 0h24v24H0V0z\" fill=\"none\"/>\n",
       "    <path d=\"M18.56 5.44l.94 2.06.94-2.06 2.06-.94-2.06-.94-.94-2.06-.94 2.06-2.06.94zm-11 1L8.5 8.5l.94-2.06 2.06-.94-2.06-.94L8.5 2.5l-.94 2.06-2.06.94zm10 10l.94 2.06.94-2.06 2.06-.94-2.06-.94-.94-2.06-.94 2.06-2.06.94z\"/><path d=\"M17.41 7.96l-1.37-1.37c-.4-.4-.92-.59-1.43-.59-.52 0-1.04.2-1.43.59L10.3 9.45l-7.72 7.72c-.78.78-.78 2.05 0 2.83L4 21.41c.39.39.9.59 1.41.59.51 0 1.02-.2 1.41-.59l7.78-7.78 2.81-2.81c.8-.78.8-2.07 0-2.86zM5.41 20L4 18.59l7.72-7.72 1.47 1.35L5.41 20z\"/>\n",
       "  </svg>\n",
       "      </button>\n",
       "      \n",
       "  <style>\n",
       "    .colab-df-container {\n",
       "      display:flex;\n",
       "      flex-wrap:wrap;\n",
       "      gap: 12px;\n",
       "    }\n",
       "\n",
       "    .colab-df-convert {\n",
       "      background-color: #E8F0FE;\n",
       "      border: none;\n",
       "      border-radius: 50%;\n",
       "      cursor: pointer;\n",
       "      display: none;\n",
       "      fill: #1967D2;\n",
       "      height: 32px;\n",
       "      padding: 0 0 0 0;\n",
       "      width: 32px;\n",
       "    }\n",
       "\n",
       "    .colab-df-convert:hover {\n",
       "      background-color: #E2EBFA;\n",
       "      box-shadow: 0px 1px 2px rgba(60, 64, 67, 0.3), 0px 1px 3px 1px rgba(60, 64, 67, 0.15);\n",
       "      fill: #174EA6;\n",
       "    }\n",
       "\n",
       "    [theme=dark] .colab-df-convert {\n",
       "      background-color: #3B4455;\n",
       "      fill: #D2E3FC;\n",
       "    }\n",
       "\n",
       "    [theme=dark] .colab-df-convert:hover {\n",
       "      background-color: #434B5C;\n",
       "      box-shadow: 0px 1px 3px 1px rgba(0, 0, 0, 0.15);\n",
       "      filter: drop-shadow(0px 1px 2px rgba(0, 0, 0, 0.3));\n",
       "      fill: #FFFFFF;\n",
       "    }\n",
       "  </style>\n",
       "\n",
       "      <script>\n",
       "        const buttonEl =\n",
       "          document.querySelector('#df-e3587f43-b546-4fc5-b37f-427ed08dc85c button.colab-df-convert');\n",
       "        buttonEl.style.display =\n",
       "          google.colab.kernel.accessAllowed ? 'block' : 'none';\n",
       "\n",
       "        async function convertToInteractive(key) {\n",
       "          const element = document.querySelector('#df-e3587f43-b546-4fc5-b37f-427ed08dc85c');\n",
       "          const dataTable =\n",
       "            await google.colab.kernel.invokeFunction('convertToInteractive',\n",
       "                                                     [key], {});\n",
       "          if (!dataTable) return;\n",
       "\n",
       "          const docLinkHtml = 'Like what you see? Visit the ' +\n",
       "            '<a target=\"_blank\" href=https://colab.research.google.com/notebooks/data_table.ipynb>data table notebook</a>'\n",
       "            + ' to learn more about interactive tables.';\n",
       "          element.innerHTML = '';\n",
       "          dataTable['output_type'] = 'display_data';\n",
       "          await google.colab.output.renderOutput(dataTable, element);\n",
       "          const docLink = document.createElement('div');\n",
       "          docLink.innerHTML = docLinkHtml;\n",
       "          element.appendChild(docLink);\n",
       "        }\n",
       "      </script>\n",
       "    </div>\n",
       "  </div>\n",
       "  "
      ],
      "text/plain": [
       "                                                                DATE  PATIENT  \\\n",
       "CODE      DESCRIPTION                                                           \n",
       "72514-3   Pain severity - 0-10 verbal numeric rating [Sco...  129128     4477   \n",
       "785-6     MCH [Entitic mass] by Automated count                14376     4477   \n",
       "39156-5   Body Mass Index                                      87070     4477   \n",
       "9279-1    Respiratory rate                                     88957     4477   \n",
       "21000-5   Erythrocyte distribution width [Entitic volume]...   11247     4477   \n",
       "...                                                              ...      ...   \n",
       "417181009 Estrogen+Progesterone receptor Ag [Presence] in...       3        3   \n",
       "21924-6   Tumor marker Cancer                                      2        2   \n",
       "71972-4   PROMIS-10 Global Physical Health (GPH) score             2        1   \n",
       "22577-1   Toxoplasma gondii Ab [Presence] in Serum                 1        1   \n",
       "71970-8   PROMIS-10 Global Mental Health (GMH) score               2        1   \n",
       "\n",
       "                                                              ENCOUNTER  \\\n",
       "CODE      DESCRIPTION                                                     \n",
       "72514-3   Pain severity - 0-10 verbal numeric rating [Sco...     127140   \n",
       "785-6     MCH [Entitic mass] by Automated count                   13032   \n",
       "39156-5   Body Mass Index                                         87321   \n",
       "9279-1    Respiratory rate                                        87843   \n",
       "21000-5   Erythrocyte distribution width [Entitic volume]...      11256   \n",
       "...                                                                 ...   \n",
       "417181009 Estrogen+Progesterone receptor Ag [Presence] in...          3   \n",
       "21924-6   Tumor marker Cancer                                         2   \n",
       "71972-4   PROMIS-10 Global Physical Health (GPH) score                2   \n",
       "22577-1   Toxoplasma gondii Ab [Presence] in Serum                    1   \n",
       "71970-8   PROMIS-10 Global Mental Health (GMH) score                  2   \n",
       "\n",
       "                                                              CATEGORY  VALUE  \\\n",
       "CODE      DESCRIPTION                                                           \n",
       "72514-3   Pain severity - 0-10 verbal numeric rating [Sco...         1     11   \n",
       "785-6     MCH [Entitic mass] by Automated count                      1     65   \n",
       "39156-5   Body Mass Index                                            1    290   \n",
       "9279-1    Respiratory rate                                           1    281   \n",
       "21000-5   Erythrocyte distribution width [Entitic volume]...         1     71   \n",
       "...                                                                ...    ...   \n",
       "417181009 Estrogen+Progesterone receptor Ag [Presence] in...         1      1   \n",
       "21924-6   Tumor marker Cancer                                        1      1   \n",
       "71972-4   PROMIS-10 Global Physical Health (GPH) score               1      2   \n",
       "22577-1   Toxoplasma gondii Ab [Presence] in Serum                   1      1   \n",
       "71970-8   PROMIS-10 Global Mental Health (GMH) score                 1      2   \n",
       "\n",
       "                                                              UNITS  TYPE  \\\n",
       "CODE      DESCRIPTION                                                       \n",
       "72514-3   Pain severity - 0-10 verbal numeric rating [Sco...      1     1   \n",
       "785-6     MCH [Entitic mass] by Automated count                   1     1   \n",
       "39156-5   Body Mass Index                                         1     1   \n",
       "9279-1    Respiratory rate                                        1     1   \n",
       "21000-5   Erythrocyte distribution width [Entitic volume]...      1     1   \n",
       "...                                                             ...   ...   \n",
       "417181009 Estrogen+Progesterone receptor Ag [Presence] in...      0     1   \n",
       "21924-6   Tumor marker Cancer                                     0     1   \n",
       "71972-4   PROMIS-10 Global Physical Health (GPH) score            1     1   \n",
       "22577-1   Toxoplasma gondii Ab [Presence] in Serum                0     1   \n",
       "71970-8   PROMIS-10 Global Mental Health (GMH) score              1     1   \n",
       "\n",
       "                                                              DATE_ORI  \n",
       "CODE      DESCRIPTION                                                   \n",
       "72514-3   Pain severity - 0-10 verbal numeric rating [Sco...    129128  \n",
       "785-6     MCH [Entitic mass] by Automated count                  14376  \n",
       "39156-5   Body Mass Index                                        87070  \n",
       "9279-1    Respiratory rate                                       88957  \n",
       "21000-5   Erythrocyte distribution width [Entitic volume]...     11247  \n",
       "...                                                                ...  \n",
       "417181009 Estrogen+Progesterone receptor Ag [Presence] in...         3  \n",
       "21924-6   Tumor marker Cancer                                        2  \n",
       "71972-4   PROMIS-10 Global Physical Health (GPH) score               2  \n",
       "22577-1   Toxoplasma gondii Ab [Presence] in Serum                   1  \n",
       "71970-8   PROMIS-10 Global Mental Health (GMH) score                 2  \n",
       "\n",
       "[266 rows x 8 columns]"
      ]
     },
     "execution_count": 16,
     "metadata": {},
     "output_type": "execute_result"
    }
   ],
   "source": [
    "obs_codedesc"
   ]
  },
  {
   "cell_type": "code",
   "execution_count": 20,
   "metadata": {
    "colab": {
     "base_uri": "https://localhost:8080/",
     "height": 534
    },
    "id": "PYDxBUmIRtTO",
    "outputId": "8ff367bd-1aaa-436b-e242-aa7a3f070c9b"
   },
   "outputs": [
    {
     "data": {
      "text/html": [
       "\n",
       "  <div id=\"df-8611d438-65df-49b7-90d8-79712f93d5b7\">\n",
       "    <div class=\"colab-df-container\">\n",
       "      <div>\n",
       "<style scoped>\n",
       "    .dataframe tbody tr th:only-of-type {\n",
       "        vertical-align: middle;\n",
       "    }\n",
       "\n",
       "    .dataframe tbody tr th {\n",
       "        vertical-align: top;\n",
       "    }\n",
       "\n",
       "    .dataframe thead th {\n",
       "        text-align: right;\n",
       "    }\n",
       "</style>\n",
       "<table border=\"1\" class=\"dataframe\">\n",
       "  <thead>\n",
       "    <tr style=\"text-align: right;\">\n",
       "      <th></th>\n",
       "      <th></th>\n",
       "      <th>ENCOUNTER</th>\n",
       "      <th>TYPE</th>\n",
       "    </tr>\n",
       "    <tr>\n",
       "      <th>CODE</th>\n",
       "      <th>DESCRIPTION</th>\n",
       "      <th></th>\n",
       "      <th></th>\n",
       "    </tr>\n",
       "  </thead>\n",
       "  <tbody>\n",
       "    <tr>\n",
       "      <th>72514-3</th>\n",
       "      <th>Pain severity - 0-10 verbal numeric rating [Score] - Reported</th>\n",
       "      <td>127140</td>\n",
       "      <td>1</td>\n",
       "    </tr>\n",
       "    <tr>\n",
       "      <th>785-6</th>\n",
       "      <th>MCH [Entitic mass] by Automated count</th>\n",
       "      <td>13032</td>\n",
       "      <td>1</td>\n",
       "    </tr>\n",
       "    <tr>\n",
       "      <th>39156-5</th>\n",
       "      <th>Body Mass Index</th>\n",
       "      <td>87321</td>\n",
       "      <td>1</td>\n",
       "    </tr>\n",
       "    <tr>\n",
       "      <th>9279-1</th>\n",
       "      <th>Respiratory rate</th>\n",
       "      <td>87843</td>\n",
       "      <td>1</td>\n",
       "    </tr>\n",
       "    <tr>\n",
       "      <th>21000-5</th>\n",
       "      <th>Erythrocyte distribution width [Entitic volume] by Automated count</th>\n",
       "      <td>11256</td>\n",
       "      <td>1</td>\n",
       "    </tr>\n",
       "    <tr>\n",
       "      <th>...</th>\n",
       "      <th>...</th>\n",
       "      <td>...</td>\n",
       "      <td>...</td>\n",
       "    </tr>\n",
       "    <tr>\n",
       "      <th>19123-9</th>\n",
       "      <th>Magnesium [Mass/volume] in Serum or Plasma</th>\n",
       "      <td>1197</td>\n",
       "      <td>1</td>\n",
       "    </tr>\n",
       "    <tr>\n",
       "      <th>33762-6</th>\n",
       "      <th>NT-proBNP</th>\n",
       "      <td>1197</td>\n",
       "      <td>1</td>\n",
       "    </tr>\n",
       "    <tr>\n",
       "      <th>10230-1</th>\n",
       "      <th>Left ventricular Ejection fraction</th>\n",
       "      <td>1199</td>\n",
       "      <td>1</td>\n",
       "    </tr>\n",
       "    <tr>\n",
       "      <th>19926-5</th>\n",
       "      <th>FEV1/FVC</th>\n",
       "      <td>3407</td>\n",
       "      <td>1</td>\n",
       "    </tr>\n",
       "    <tr>\n",
       "      <th>74006-8</th>\n",
       "      <th>Weight difference [Mass difference] --pre dialysis - post dialysis</th>\n",
       "      <td>37624</td>\n",
       "      <td>1</td>\n",
       "    </tr>\n",
       "  </tbody>\n",
       "</table>\n",
       "<p>115 rows × 2 columns</p>\n",
       "</div>\n",
       "      <button class=\"colab-df-convert\" onclick=\"convertToInteractive('df-8611d438-65df-49b7-90d8-79712f93d5b7')\"\n",
       "              title=\"Convert this dataframe to an interactive table.\"\n",
       "              style=\"display:none;\">\n",
       "        \n",
       "  <svg xmlns=\"http://www.w3.org/2000/svg\" height=\"24px\"viewBox=\"0 0 24 24\"\n",
       "       width=\"24px\">\n",
       "    <path d=\"M0 0h24v24H0V0z\" fill=\"none\"/>\n",
       "    <path d=\"M18.56 5.44l.94 2.06.94-2.06 2.06-.94-2.06-.94-.94-2.06-.94 2.06-2.06.94zm-11 1L8.5 8.5l.94-2.06 2.06-.94-2.06-.94L8.5 2.5l-.94 2.06-2.06.94zm10 10l.94 2.06.94-2.06 2.06-.94-2.06-.94-.94-2.06-.94 2.06-2.06.94z\"/><path d=\"M17.41 7.96l-1.37-1.37c-.4-.4-.92-.59-1.43-.59-.52 0-1.04.2-1.43.59L10.3 9.45l-7.72 7.72c-.78.78-.78 2.05 0 2.83L4 21.41c.39.39.9.59 1.41.59.51 0 1.02-.2 1.41-.59l7.78-7.78 2.81-2.81c.8-.78.8-2.07 0-2.86zM5.41 20L4 18.59l7.72-7.72 1.47 1.35L5.41 20z\"/>\n",
       "  </svg>\n",
       "      </button>\n",
       "      \n",
       "  <style>\n",
       "    .colab-df-container {\n",
       "      display:flex;\n",
       "      flex-wrap:wrap;\n",
       "      gap: 12px;\n",
       "    }\n",
       "\n",
       "    .colab-df-convert {\n",
       "      background-color: #E8F0FE;\n",
       "      border: none;\n",
       "      border-radius: 50%;\n",
       "      cursor: pointer;\n",
       "      display: none;\n",
       "      fill: #1967D2;\n",
       "      height: 32px;\n",
       "      padding: 0 0 0 0;\n",
       "      width: 32px;\n",
       "    }\n",
       "\n",
       "    .colab-df-convert:hover {\n",
       "      background-color: #E2EBFA;\n",
       "      box-shadow: 0px 1px 2px rgba(60, 64, 67, 0.3), 0px 1px 3px 1px rgba(60, 64, 67, 0.15);\n",
       "      fill: #174EA6;\n",
       "    }\n",
       "\n",
       "    [theme=dark] .colab-df-convert {\n",
       "      background-color: #3B4455;\n",
       "      fill: #D2E3FC;\n",
       "    }\n",
       "\n",
       "    [theme=dark] .colab-df-convert:hover {\n",
       "      background-color: #434B5C;\n",
       "      box-shadow: 0px 1px 3px 1px rgba(0, 0, 0, 0.15);\n",
       "      filter: drop-shadow(0px 1px 2px rgba(0, 0, 0, 0.3));\n",
       "      fill: #FFFFFF;\n",
       "    }\n",
       "  </style>\n",
       "\n",
       "      <script>\n",
       "        const buttonEl =\n",
       "          document.querySelector('#df-8611d438-65df-49b7-90d8-79712f93d5b7 button.colab-df-convert');\n",
       "        buttonEl.style.display =\n",
       "          google.colab.kernel.accessAllowed ? 'block' : 'none';\n",
       "\n",
       "        async function convertToInteractive(key) {\n",
       "          const element = document.querySelector('#df-8611d438-65df-49b7-90d8-79712f93d5b7');\n",
       "          const dataTable =\n",
       "            await google.colab.kernel.invokeFunction('convertToInteractive',\n",
       "                                                     [key], {});\n",
       "          if (!dataTable) return;\n",
       "\n",
       "          const docLinkHtml = 'Like what you see? Visit the ' +\n",
       "            '<a target=\"_blank\" href=https://colab.research.google.com/notebooks/data_table.ipynb>data table notebook</a>'\n",
       "            + ' to learn more about interactive tables.';\n",
       "          element.innerHTML = '';\n",
       "          dataTable['output_type'] = 'display_data';\n",
       "          await google.colab.output.renderOutput(dataTable, element);\n",
       "          const docLink = document.createElement('div');\n",
       "          docLink.innerHTML = docLinkHtml;\n",
       "          element.appendChild(docLink);\n",
       "        }\n",
       "      </script>\n",
       "    </div>\n",
       "  </div>\n",
       "  "
      ],
      "text/plain": [
       "                                                            ENCOUNTER  TYPE\n",
       "CODE    DESCRIPTION                                                        \n",
       "72514-3 Pain severity - 0-10 verbal numeric rating [Sco...     127140     1\n",
       "785-6   MCH [Entitic mass] by Automated count                   13032     1\n",
       "39156-5 Body Mass Index                                         87321     1\n",
       "9279-1  Respiratory rate                                        87843     1\n",
       "21000-5 Erythrocyte distribution width [Entitic volume]...      11256     1\n",
       "...                                                               ...   ...\n",
       "19123-9 Magnesium [Mass/volume] in Serum or Plasma               1197     1\n",
       "33762-6 NT-proBNP                                                1197     1\n",
       "10230-1 Left ventricular Ejection fraction                       1199     1\n",
       "19926-5 FEV1/FVC                                                 3407     1\n",
       "74006-8 Weight difference [Mass difference] --pre dialy...      37624     1\n",
       "\n",
       "[115 rows x 2 columns]"
      ]
     },
     "execution_count": 20,
     "metadata": {},
     "output_type": "execute_result"
    }
   ],
   "source": [
    "obs_codedesc.query(\"ENCOUNTER > 1000\")[[\"ENCOUNTER\",\"TYPE\"]]"
   ]
  },
  {
   "cell_type": "code",
   "execution_count": 21,
   "metadata": {
    "colab": {
     "base_uri": "https://localhost:8080/"
    },
    "id": "HfZF1jfJRtTO",
    "outputId": "b112b680-8e41-4c79-e872-370bcf262561"
   },
   "outputs": [
    {
     "data": {
      "text/plain": [
       "array(['vital-signs', 'laboratory', 'social-history', 'survey',\n",
       "       'procedure', 'exam', nan, 'imaging', 'therapy'], dtype=object)"
      ]
     },
     "execution_count": 21,
     "metadata": {},
     "output_type": "execute_result"
    }
   ],
   "source": [
    "observations.CATEGORY.unique()"
   ]
  },
  {
   "cell_type": "code",
   "execution_count": 22,
   "metadata": {
    "colab": {
     "base_uri": "https://localhost:8080/"
    },
    "id": "PDwZkrT7RtTP",
    "outputId": "0ea0c4f8-adf0-4f69-eac6-8407d90a1d7e"
   },
   "outputs": [
    {
     "data": {
      "text/plain": [
       "numeric    3800619\n",
       "text       2458268\n",
       "Name: TYPE, dtype: int64"
      ]
     },
     "execution_count": 22,
     "metadata": {},
     "output_type": "execute_result"
    }
   ],
   "source": [
    "observations.TYPE.value_counts()"
   ]
  },
  {
   "cell_type": "markdown",
   "metadata": {
    "id": "zaKU9z2t-O40"
   },
   "source": [
    "There are a ton of features in the observation table. Let's just look for features with >1000 records seen. A way to prune so that we don't deal with too much missingness"
   ]
  },
  {
   "cell_type": "code",
   "execution_count": 17,
   "metadata": {
    "id": "8GhWT3iCRtTP"
   },
   "outputs": [],
   "source": [
    "obs_indexes = obs_codedesc.query(\"ENCOUNTER > 1000\").index"
   ]
  },
  {
   "cell_type": "code",
   "execution_count": 24,
   "metadata": {
    "colab": {
     "base_uri": "https://localhost:8080/"
    },
    "id": "QsKeN6qgRtTP",
    "outputId": "68339f74-ef71-46f9-d818-3391e7222d7b"
   },
   "outputs": [
    {
     "data": {
      "text/plain": [
       "Index(['72514-3', '785-6', '39156-5', '9279-1', '21000-5', '32623-1',\n",
       "       '32207-3', '777-3', '786-4', '4544-3',\n",
       "       ...\n",
       "       '788-0', '2276-4', '2502-3', '2498-4', '2500-7', '19123-9', '33762-6',\n",
       "       '10230-1', '19926-5', '74006-8'],\n",
       "      dtype='object', name='CODE', length=115)"
      ]
     },
     "execution_count": 24,
     "metadata": {},
     "output_type": "execute_result"
    }
   ],
   "source": [
    "obs_indexes.get_level_values(0)"
   ]
  },
  {
   "cell_type": "code",
   "execution_count": 18,
   "metadata": {
    "id": "Os2aXDDpRtTP"
   },
   "outputs": [],
   "source": [
    "snomed_obs = obs_indexes.get_level_values(0)"
   ]
  },
  {
   "cell_type": "code",
   "execution_count": 19,
   "metadata": {
    "id": "G_hhbUFeRtTQ"
   },
   "outputs": [],
   "source": [
    "snomed_obs = snomed_obs.to_list()"
   ]
  },
  {
   "cell_type": "code",
   "execution_count": 20,
   "metadata": {
    "id": "nBEFgznsRtTQ"
   },
   "outputs": [],
   "source": [
    "first_vals = observations.groupby([\"CODE\"]).first().query(\"CODE in @snomed_obs\")"
   ]
  },
  {
   "cell_type": "code",
   "execution_count": 21,
   "metadata": {
    "id": "WuB2kFDWRtTQ"
   },
   "outputs": [],
   "source": [
    "numeric_obs = first_vals.query(\"TYPE == 'numeric'\")"
   ]
  },
  {
   "cell_type": "code",
   "execution_count": 22,
   "metadata": {
    "colab": {
     "base_uri": "https://localhost:8080/"
    },
    "id": "XdQKOSPqRtTQ",
    "outputId": "3ad3f8b9-f53b-49cc-d40b-7a06cc908e64"
   },
   "outputs": [
    {
     "data": {
      "text/plain": [
       "Index(['10230-1', '10834-0', '14959-1', '1742-6', '1751-7', '17861-6',\n",
       "       '18262-6', '19123-9', '1920-8', '1975-2', '19926-5', '2028-9',\n",
       "       '20505-4', '20565-8', '2069-3', '2075-0', '2085-9', '2093-3', '21000-5',\n",
       "       '2160-0', '2276-4', '2339-0', '2345-7', '2498-4', '2500-7', '2502-3',\n",
       "       '2571-8', '2708-6', '2823-3', '2885-2', '29463-7', '2947-0', '2951-2',\n",
       "       '3094-0', '32207-3', '32623-1', '33762-6', '33914-3', '38208-5',\n",
       "       '38483-4', '39156-5', '44261-6', '4544-3', '4548-4', '49765-1',\n",
       "       '55758-7', '5792-7', '5797-6', '5803-2', '5804-0', '5811-5', '59460-6',\n",
       "       '6298-4', '6299-2', '63512-8', '6690-2', '6768-6', '70274-6', '718-7',\n",
       "       '72514-3', '74006-8', '75626-2', '75893-8', '76504-0', '777-3', '785-6',\n",
       "       '786-4', '787-2', '788-0', '789-8', '82667-7', '8302-2', '8310-5',\n",
       "       '8462-4', '8480-6', '8867-4', '89579-7', '91145-3', '91146-1',\n",
       "       '9279-1'],\n",
       "      dtype='object', name='CODE')"
      ]
     },
     "execution_count": 22,
     "metadata": {},
     "output_type": "execute_result"
    }
   ],
   "source": [
    "numeric_obs.index"
   ]
  },
  {
   "cell_type": "markdown",
   "metadata": {
    "id": "X6vKpN0t-fGM"
   },
   "source": [
    "Record the SNOMED CT codes of numeric observations"
   ]
  },
  {
   "cell_type": "code",
   "execution_count": 23,
   "metadata": {
    "id": "a5lcCACoRtTR"
   },
   "outputs": [],
   "source": [
    "snomed_numeric_obs = numeric_obs.index.to_list()"
   ]
  },
  {
   "cell_type": "code",
   "execution_count": 24,
   "metadata": {
    "colab": {
     "base_uri": "https://localhost:8080/"
    },
    "id": "QrVyZ_74RtTR",
    "outputId": "d5bcc554-ff4a-45fb-b8e8-065bcc6e2e8f"
   },
   "outputs": [
    {
     "data": {
      "text/plain": [
       "80"
      ]
     },
     "execution_count": 24,
     "metadata": {},
     "output_type": "execute_result"
    }
   ],
   "source": [
    "len(snomed_numeric_obs)"
   ]
  },
  {
   "cell_type": "code",
   "execution_count": 28,
   "metadata": {
    "id": "WgjXDmvBY4wZ"
   },
   "outputs": [],
   "source": [
    "first_vals.query(\"CODE in @snomed_numeric_obs\")[[\"DESCRIPTION\"]].to_csv(\"csv/numeric_snomed.csv\")"
   ]
  },
  {
   "cell_type": "markdown",
   "metadata": {
    "id": "2uKMWW9R-oYD"
   },
   "source": [
    "Categorical observations"
   ]
  },
  {
   "cell_type": "code",
   "execution_count": 24,
   "metadata": {
    "id": "oJBTdjF5RtTR"
   },
   "outputs": [],
   "source": [
    "snomed_categoric_obs = first_vals.query(\"TYPE == 'text'\").index.to_list()"
   ]
  },
  {
   "cell_type": "code",
   "execution_count": 25,
   "metadata": {
    "id": "INEyAmisRtTR"
   },
   "outputs": [],
   "source": [
    "snomed_categoric_obs.remove('56799-0') # removes \"Address\" field\n",
    "snomed_categoric_obs.remove('63586-2') # removes \"Zip code\""
   ]
  },
  {
   "cell_type": "code",
   "execution_count": null,
   "metadata": {
    "colab": {
     "base_uri": "https://localhost:8080/",
     "height": 210
    },
    "id": "kRWcZuaZRtTR",
    "outputId": "f3a6c91e-0ca9-4b74-aa12-cfdfd921ece9"
   },
   "outputs": [],
   "source": [
    "# snomed_categoric_obs.remove('69453-9') # removes cause of death"
   ]
  },
  {
   "cell_type": "code",
   "execution_count": null,
   "metadata": {
    "id": "XCdFlh4DRtTR"
   },
   "outputs": [],
   "source": [
    "chfpatients_obs.query(\"CODE in @snomed_categoric_obs\").groupby([\"CODE\",\"VALUE\"]).nunique()[[\"ENCOUNTER\"]]"
   ]
  },
  {
   "cell_type": "markdown",
   "metadata": {
    "id": "nW8c3NCQihkV"
   },
   "source": [
    "## Feature Engineering\n",
    "\n",
    "Problem: Predict new diabetes complication in 3 years using 2 years worth of data\n",
    "\n",
    "Outcome: diabetes complication\n",
    "\n",
    "Features:\n",
    "- observations (2 year average of vital signs, lab values)\n",
    "- medications\n",
    "- procedures"
   ]
  },
  {
   "cell_type": "code",
   "execution_count": 67,
   "metadata": {
    "colab": {
     "base_uri": "https://localhost:8080/"
    },
    "id": "yLcTciz4HPVL",
    "outputId": "fa3ec471-a0a9-458e-e3d2-e0c339ca930a"
   },
   "outputs": [
    {
     "data": {
      "text/plain": [
       "289         True\n",
       "290         True\n",
       "291         True\n",
       "292         True\n",
       "293         True\n",
       "            ... \n",
       "36211995    True\n",
       "36211996    True\n",
       "36211997    True\n",
       "36211998    True\n",
       "36211999    True\n",
       "Name: DATE, Length: 6258887, dtype: bool"
      ]
     },
     "execution_count": 67,
     "metadata": {},
     "output_type": "execute_result"
    }
   ],
   "source": [
    "observations.DATE > dfcomptime.iloc[0].DIABETES_START"
   ]
  },
  {
   "cell_type": "code",
   "execution_count": 36,
   "metadata": {
    "colab": {
     "base_uri": "https://localhost:8080/"
    },
    "id": "6KV0lQcEEaNl",
    "outputId": "c9a1842c-76d6-46ce-fa9f-483200bedceb"
   },
   "outputs": [
    {
     "name": "stderr",
     "output_type": "stream",
     "text": [
      "/usr/local/lib/python3.7/dist-packages/pandas/core/generic.py:5516: SettingWithCopyWarning: \n",
      "A value is trying to be set on a copy of a slice from a DataFrame.\n",
      "Try using .loc[row_indexer,col_indexer] = value instead\n",
      "\n",
      "See the caveats in the documentation: https://pandas.pydata.org/pandas-docs/stable/user_guide/indexing.html#returning-a-view-versus-a-copy\n",
      "  self[name] = value\n"
     ]
    }
   ],
   "source": [
    "data1 = pd.DataFrame()\n",
    "idx = 0\n",
    "for p in dfcomptime.index:\n",
    "  # add \"outcome=1\" observation\n",
    "  here = dfcomptime.loc[p]\n",
    "  start_obs = here.DIABETES_START + here.COMP_DIST - np.timedelta64(5,'Y')\n",
    "  end_obs = start_obs + np.timedelta64(2,'Y')\n",
    "  dnew = {}\n",
    "  dnew['age'] = (start_obs-pd.to_datetime(diabetic_patients.loc[p].BIRTHDATE, utc=True))\n",
    "  dnew['sex_m'] = diabetic_patients.loc[p].GENDER=='M'\n",
    "  dnew['race_white'] = diabetic_patients.loc[p].RACE=='white'\n",
    "  dnew['outcome'] = 1\n",
    "  d_obs = observations.query(\n",
    "        \"PATIENT == @p & CODE in @snomed_numeric_obs & DATE >= @start_obs & DATE <= @end_obs\"\n",
    "        )\n",
    "  d_obs.sort_values(\"DATE\")\n",
    "  d_obs.VALUE = d_obs.VALUE.astype('float')\n",
    "  ss = d_obs.groupby(\"CODE\").VALUE.mean()\n",
    "  dnew = pd.DataFrame({**dnew, **ss.to_dict()}, index=[idx])\n",
    "  data1 = pd.concat([data1, dnew])\n",
    "  idx = idx+1\n",
    "#data1['age'] = data1.DIABETES_START + diabetic_patients[dfcomptime].BIRTHDATE"
   ]
  },
  {
   "cell_type": "code",
   "execution_count": 37,
   "metadata": {
    "id": "sLgi9Z_FEgys"
   },
   "outputs": [],
   "source": [
    "data1.to_csv(\"csv/28_1010_data1.csv\")"
   ]
  },
  {
   "cell_type": "code",
   "execution_count": 38,
   "metadata": {
    "colab": {
     "base_uri": "https://localhost:8080/"
    },
    "id": "cW8DOJxbOCti",
    "outputId": "ac460c80-6712-4956-ee88-f48e8d2a96f5"
   },
   "outputs": [
    {
     "name": "stderr",
     "output_type": "stream",
     "text": [
      "/usr/local/lib/python3.7/dist-packages/pandas/core/generic.py:5516: SettingWithCopyWarning: \n",
      "A value is trying to be set on a copy of a slice from a DataFrame.\n",
      "Try using .loc[row_indexer,col_indexer] = value instead\n",
      "\n",
      "See the caveats in the documentation: https://pandas.pydata.org/pandas-docs/stable/user_guide/indexing.html#returning-a-view-versus-a-copy\n",
      "  self[name] = value\n"
     ]
    }
   ],
   "source": [
    "data0 = pd.DataFrame()\n",
    "idx = 0\n",
    "for p in df[df.COMP_DIST >= np.timedelta64(5,'Y')].index:\n",
    "  # add \"outcome=0\" observation\n",
    "  here = df.loc[p]\n",
    "  start_obs = here.DIABETES_START\n",
    "  end_obs = start_obs + np.timedelta64(2,'Y')\n",
    "  dnew = {}\n",
    "  dnew['age'] = (start_obs-pd.to_datetime(diabetic_patients.loc[p].BIRTHDATE, utc=True))\n",
    "  dnew['sex_m'] = diabetic_patients.loc[p].GENDER=='M'\n",
    "  dnew['race_white'] = diabetic_patients.loc[p].RACE=='white'\n",
    "  dnew['outcome'] = 1\n",
    "  d_obs = observations.query(\n",
    "        \"PATIENT == @p & CODE in @snomed_numeric_obs & DATE >= @start_obs & DATE <= @end_obs\"\n",
    "        )\n",
    "  d_obs.sort_values(\"DATE\")\n",
    "  d_obs.VALUE = d_obs.VALUE.astype('float')\n",
    "  ss = d_obs.groupby(\"CODE\").VALUE.mean()\n",
    "  dnew = pd.DataFrame({**dnew, **ss.to_dict()}, index=[idx])\n",
    "  data0 = pd.concat([data0, dnew])\n",
    "  idx = idx+1\n",
    "data0.to_csv(\"csv/28_1010_data0.csv\")\n",
    "#data1['age'] = data1.DIABETES_START + diabetic_patients[dfcomptime].BIRTHDATE"
   ]
  },
  {
   "cell_type": "code",
   "execution_count": 27,
   "metadata": {
    "colab": {
     "base_uri": "https://localhost:8080/"
    },
    "id": "uzgnkId0y5ej",
    "outputId": "29af1cf0-9ea3-43be-c89b-8c27bb317f07"
   },
   "outputs": [
    {
     "name": "stderr",
     "output_type": "stream",
     "text": [
      "/usr/local/lib/python3.7/dist-packages/pandas/core/generic.py:5516: SettingWithCopyWarning: \n",
      "A value is trying to be set on a copy of a slice from a DataFrame.\n",
      "Try using .loc[row_indexer,col_indexer] = value instead\n",
      "\n",
      "See the caveats in the documentation: https://pandas.pydata.org/pandas-docs/stable/user_guide/indexing.html#returning-a-view-versus-a-copy\n",
      "  self[name] = value\n"
     ]
    }
   ],
   "source": [
    "data2 = pd.DataFrame()\n",
    "idx = 0\n",
    "for p in df[df.COMP_DIST.isna()].index:\n",
    "  # add \"outcome=0\" observation\n",
    "  here = df.loc[p]\n",
    "  start_obs = here.DIABETES_START\n",
    "  end_obs = start_obs + np.timedelta64(2,'Y')\n",
    "  dnew = {}\n",
    "  dnew['age'] = (start_obs-pd.to_datetime(diabetic_patients.loc[p].BIRTHDATE, utc=True))\n",
    "  dnew['sex_m'] = diabetic_patients.loc[p].GENDER=='M'\n",
    "  dnew['race_white'] = diabetic_patients.loc[p].RACE=='white'\n",
    "  dnew['outcome'] = 1\n",
    "  d_obs = observations.query(\n",
    "        \"PATIENT == @p & CODE in @snomed_numeric_obs & DATE >= @start_obs & DATE <= @end_obs\"\n",
    "        )\n",
    "  d_obs.sort_values(\"DATE\")\n",
    "  d_obs.VALUE = d_obs.VALUE.astype('float')\n",
    "  ss = d_obs.groupby(\"CODE\").VALUE.mean()\n",
    "  dnew = pd.DataFrame({**dnew, **ss.to_dict()}, index=[idx])\n",
    "  data2 = pd.concat([data2, dnew])\n",
    "  idx = idx+1\n",
    "data2.to_csv(\"csv/28_1710_data2.csv\")\n",
    "#data1['age'] = data1.DIABETES_START + diabetic_patients[dfcomptime].BIRTHDATE"
   ]
  }
 ],
 "metadata": {
  "colab": {
   "collapsed_sections": [
    "azmfcMOPmxum"
   ],
   "name": "28_0912 CMSC 35300 Dt",
   "provenance": []
  },
  "kernelspec": {
   "display_name": "Python 3 (ipykernel)",
   "language": "python",
   "name": "python3"
  },
  "language_info": {
   "codemirror_mode": {
    "name": "ipython",
    "version": 3
   },
   "file_extension": ".py",
   "mimetype": "text/x-python",
   "name": "python",
   "nbconvert_exporter": "python",
   "pygments_lexer": "ipython3",
   "version": "3.9.7"
  }
 },
 "nbformat": 4,
 "nbformat_minor": 4
}
